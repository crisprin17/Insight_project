{
 "cells": [
  {
   "cell_type": "code",
   "execution_count": null,
   "metadata": {},
   "outputs": [],
   "source": [
    "#imports\n",
    "import csv\n",
    "import io\n",
    "from bs4 import BeautifulSoup\n",
    "import requests\n",
    "import random\n",
    "import time\n",
    "\n",
    "inputFile = 'Downloads/Phone_number_matching_url_positive_2_new_Feb3.csv'\n",
    "\n",
    "#this will need a refactor to not run on Spark\n",
    "itterable = csv.DictReader(open(inputFile))\n",
    "\n",
    "CityX_text = []\n",
    "\n",
    "skip_count = 0\n",
    "limit = 500\n",
    "for row in itterable:\n",
    "    while limit > 0:\n",
    "        print(row)\n",
    "        url = row['FullURL']\n",
    "        print(url)\n",
    "        page_response2 = requests.get(url, timeout=7)\n",
    "        if page_response2.status_code != 404:\n",
    "            page_content2 = BeautifulSoup(page_response2.content, \"html.parser\")\n",
    "            result = page_content2.find('title')\n",
    "            result2 = page_content2.find('div', itemprop=\"description\")\n",
    "            if result2 != None:\n",
    "                title = []\n",
    "                text_ad = []\n",
    "                for x in result:\n",
    "                    title.append(str(x))\n",
    "                for x in result2:\n",
    "                    text_ad.append(str(x))\n",
    "                CityX_text.append({'URL': url, 'Text': text_ad, 'Title': title})\n",
    "                ran = random.randint(1,5)\n",
    "                print('sleeping for...',ran)\n",
    "                time.sleep(ran)\n",
    "            else:\n",
    "                skip_count = skip_count + 1\n",
    "                print('skip', skip_count)\n",
    "        limit = limit - 1\n",
    "        print ('limit', limit)\n",
    "\n",
    "\n",
    "csv_columns = ['URL','Text', 'Title']\n",
    "csv_file = \"first_500_Phone_number_matching_url_Spam_1_new_Feb3.csv\"\n",
    "try:\n",
    "    with open(csv_file, 'w', encoding='utf-8-sig') as csvfile:\n",
    "        writer = csv.DictWriter(csvfile, fieldnames=csv_columns)\n",
    "        writer.writeheader()\n",
    "        for data in CityX_text:\n",
    "            writer.writerow(data)\n",
    "except IOError:\n",
    "    print(\"I/O error\")"
   ]
  }
 ],
 "metadata": {
  "kernelspec": {
   "display_name": "Python 3",
   "language": "python",
   "name": "python3"
  },
  "language_info": {
   "codemirror_mode": {
    "name": "ipython",
    "version": 3
   },
   "file_extension": ".py",
   "mimetype": "text/x-python",
   "name": "python",
   "nbconvert_exporter": "python",
   "pygments_lexer": "ipython3",
   "version": "3.6.6"
  }
 },
 "nbformat": 4,
 "nbformat_minor": 2
}
